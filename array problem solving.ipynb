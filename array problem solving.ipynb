{
 "cells": [
  {
   "cell_type": "code",
   "execution_count": 11,
   "metadata": {},
   "outputs": [
    {
     "name": "stdout",
     "output_type": "stream",
     "text": [
      "1\n",
      "5 2\n",
      "23 32 54 32 5\n",
      "23 32 54 32 23 \n",
      "\n"
     ]
    }
   ],
   "source": [
    "# array rotation by n\n",
    "def rotateRight(n,arr):\n",
    "    temp = arr[-1]\n",
    "    for i in range(n-1, 0, -1):\n",
    "        arr[i]=arr[i-1]\n",
    "    arr[0]=temp\n",
    "    return arr\n",
    "\n",
    "\n",
    "def main():\n",
    "    n=int(input())\n",
    "    for i in range(n):\n",
    "        l,k = map(int, input().split())\n",
    "        arr = list(map(int, input().split()))\n",
    "        for j in range(k):\n",
    "            res = rotateLeft(l,arr)\n",
    "        for k in res:\n",
    "            print(k, end=\" \")\n",
    "        print('\\n')\n",
    "            \n",
    "if __name__ == \"__main__\":\n",
    "    main()"
   ]
  },
  {
   "cell_type": "code",
   "execution_count": null,
   "metadata": {},
   "outputs": [],
   "source": [
    "\n",
    "def rotateArray(k, arr):\n",
    "    new_arr=arr[k:]+arr[:k]\n",
    "    return new_arr\n",
    "rotateArray(-2, [12,34,23,5,43,56,3])"
   ]
  },
  {
   "cell_type": "code",
   "execution_count": 1,
   "metadata": {},
   "outputs": [],
   "source": [
    "# Reversal algorithm\n",
    "def reverseArr(arr, i, j):\n",
    "    while i<j:\n",
    "        temp = arr[i]\n",
    "        arr[i]=arr[j]\n",
    "        arr[j]=temp\n",
    "        i+=1\n",
    "        j-=1\n",
    "    \n",
    "def rotateArrayByN(arr, n, k):\n",
    "    reverseArr(arr, n-k,n-1)\n",
    "    reverseArr(arr, 0, n-k-1)\n",
    "    reverseArr(arr, 0, n-1)\n",
    "    print(arr)\n",
    "    \n",
    "    \n",
    "        \n",
    "    "
   ]
  },
  {
   "cell_type": "code",
   "execution_count": 2,
   "metadata": {},
   "outputs": [
    {
     "name": "stdout",
     "output_type": "stream",
     "text": [
      "[4, 3, 12, 34, 23, 45, 6]\n",
      "[4, 3, 12, 34, 23, 45, 6]\n"
     ]
    }
   ],
   "source": [
    "arr = [12,34,23,45,6,4,3]\n",
    "rotateArrayByN(arr, 7, 2)\n",
    "print(arr)"
   ]
  },
  {
   "cell_type": "code",
   "execution_count": 32,
   "metadata": {},
   "outputs": [
    {
     "name": "stdout",
     "output_type": "stream",
     "text": [
      "[[2, 6, 10], [6, 10, 14], [10, 14, 18]]\n"
     ]
    }
   ],
   "source": [
    "arr1=[[1,2,3],\n",
    "     [4,5,6],\n",
    "    [7,8,9]]\n",
    "arr2=[[1,4,7],\n",
    "    [2,5,8],\n",
    "    [3,6,9]]\n",
    "def addTwoMatrix(arr1, arr2):\n",
    "    res=[]\n",
    "    for i in range(len(arr1)):\n",
    "        temp=[0,0,0]\n",
    "        for j in range(len(arr2)):\n",
    "            temp[j]=arr1[i][j]+arr2[i][j]\n",
    "        res.append(temp)\n",
    "    return res\n",
    "\n",
    "print(addTwoMatrix(arr1, arr2))\n",
    "        \n",
    "      "
   ]
  },
  {
   "cell_type": "code",
   "execution_count": 47,
   "metadata": {},
   "outputs": [
    {
     "data": {
      "text/plain": [
       "[[12, 28, 0], [36, 56, 0]]"
      ]
     },
     "execution_count": 47,
     "metadata": {},
     "output_type": "execute_result"
    }
   ],
   "source": [
    "arr1=[[1,2],\n",
    "     [3,4]]\n",
    "arr2=[[5,6],[7,8]]\n",
    "def mulTwoMatrix(arr1, arr2):\n",
    "    res=[]\n",
    "    for i in range(len(arr1)):\n",
    "        temp=[0,0,0]\n",
    "        for j in range(len(arr2)):\n",
    "            for k in range(len(arr2)):\n",
    "                temp[j]=temp[j] + arr1[i][j]*arr2[k][j]\n",
    "        res.append(temp)\n",
    "        \n",
    "    return res\n",
    "mulTwoMatrix(arr1, arr2)"
   ]
  },
  {
   "cell_type": "code",
   "execution_count": 48,
   "metadata": {},
   "outputs": [
    {
     "data": {
      "text/plain": [
       "[[19, 22], [43, 50]]"
      ]
     },
     "execution_count": 48,
     "metadata": {},
     "output_type": "execute_result"
    }
   ],
   "source": [
    "arr1=[[1,2],\n",
    "     [3,4]]\n",
    "arr2=[[5,6],[7,8]]\n",
    "def mulTwoMatrix(arr1, arr2):\n",
    "    res=[]\n",
    "    for i in range(len(arr1)):\n",
    "        temp=[0,0]\n",
    "        for j in range(len(arr2)):\n",
    "            for k in range(len(arr2)):\n",
    "                temp[j]=temp[j] + arr1[i][k]*arr2[k][j]\n",
    "        res.append(temp)\n",
    "        \n",
    "    return res\n",
    "mulTwoMatrix(arr1, arr2)"
   ]
  },
  {
   "cell_type": "code",
   "execution_count": 58,
   "metadata": {},
   "outputs": [
    {
     "name": "stdout",
     "output_type": "stream",
     "text": [
      "i\n",
      "i\n",
      "i\n",
      "[[1, 2, 3], [0, 5, 6], [0, 0, 9]]\n"
     ]
    }
   ],
   "source": [
    "arr1=[[1, 2, 3],\n",
    "[4, 5, 6],\n",
    "[7, 8, 9]]\n",
    "\n",
    "def lowertrangle(arr):\n",
    "    res=[]\n",
    "    for i in range(len(arr)):\n",
    "        temp=[0]*3\n",
    "        for j in range(i+1):\n",
    "            temp[j]=arr[i][j]\n",
    "        res.append(temp)\n",
    "    return res\n",
    "def uppertrangle(arr):\n",
    "    for i in range(len(arr)):\n",
    "        for j in range(i):\n",
    "            arr[i][j]=0\n",
    "    return arr\n",
    "            \n",
    "\n",
    "uppertrangle(arr1)\n",
    "    "
   ]
  },
  {
   "cell_type": "code",
   "execution_count": 37,
   "metadata": {},
   "outputs": [],
   "source": [
    "def friendAges():\n",
    "    n = int(input())\n",
    "    arr = list(map(int, input().split()))\n",
    "    freq=[0]*121\n",
    "    ans=0\n",
    "    for i in range(len(arr)):\n",
    "        freq[arr[i]]+=1\n",
    "    for i in range(1, 121):\n",
    "        for j in range(1,121):\n",
    "            if (i<j*0.5+7) or (i>100 or j<100) or (i>j):\n",
    "                continue\n",
    "            ans = freq[i]*freq[j]\n",
    "            if (i==j):\n",
    "                ans-=1\n",
    "    return ans"
   ]
  },
  {
   "cell_type": "code",
   "execution_count": 44,
   "metadata": {},
   "outputs": [
    {
     "data": {
      "text/plain": [
       "[0, 0, 0]"
      ]
     },
     "execution_count": 44,
     "metadata": {},
     "output_type": "execute_result"
    }
   ],
   "source": [
    "x=[0]*3\n",
    "x"
   ]
  },
  {
   "cell_type": "code",
   "execution_count": 45,
   "metadata": {},
   "outputs": [
    {
     "name": "stdout",
     "output_type": "stream",
     "text": [
      "2 2 5\n",
      "1 2\n",
      "3 4\n",
      "i 0\n",
      "i 1\n",
      "[[5, 10], [15, 20]]\n"
     ]
    }
   ],
   "source": [
    "m ,n, k= map(int, input().split())\n",
    "\n",
    "matrix=[]\n",
    "for i in range(m):\n",
    "  matrix.append(list(map(int, input().split())))\n",
    "res=[]        \n",
    "for i in range(len(matrix)):\n",
    "  \n",
    "  temp=[0]*n\n",
    "  for j in range(len(matrix)):\n",
    "    temp[j]=matrix[i][j]*k\n",
    "  res.append(temp)    \n",
    "    \n",
    "for i in res:\n",
    "  for j in i:\n",
    "    print(j, end=\" \")\n",
    "  print('\\n')\n",
    "  \n",
    "  "
   ]
  },
  {
   "cell_type": "code",
   "execution_count": 134,
   "metadata": {},
   "outputs": [
    {
     "name": "stdout",
     "output_type": "stream",
     "text": [
      "2\n",
      "5 2\n",
      "1 2 3 4 5\n",
      "4 5 1 2 3 \n",
      "\n",
      "5 3\n",
      "1 2 3 4 5\n",
      "3 4 5 1 2 \n",
      "\n"
     ]
    }
   ],
   "source": [
    "def rotateArr(k,n, arr):\n",
    "  # return arr[-k:]+arr[:-k]\n",
    "  if k<n:\n",
    "    res=[]\n",
    "    for i in range(n-k, n):\n",
    "      res.append(arr[i])\n",
    "    for j in range(n-k):\n",
    "      res.append(arr[j])\n",
    "    return res  \n",
    "  elif k>n:\n",
    "    k%=n\n",
    "    res=[]\n",
    "    for i in range(n-k, n):\n",
    "      res.append(arr[i])\n",
    "    for j in range(n-k):\n",
    "      res.append(arr[j])\n",
    "    return res  \n",
    "    \n",
    "  else:\n",
    "    return arr\n",
    "t = int(input())\n",
    "for i in range(t):\n",
    "  n, k = map(int, input().split())\n",
    "  arr = list(map(int, input().split()))\n",
    "  res=rotateArr(k,n, arr)\n",
    "  for i in range(len(res)):\n",
    "    print(res[i], end=\" \")\n",
    "  print('\\n')"
   ]
  },
  {
   "cell_type": "code",
   "execution_count": 132,
   "metadata": {},
   "outputs": [
    {
     "name": "stdout",
     "output_type": "stream",
     "text": [
      "1\n",
      "5 2\n",
      "1 2 3 4 5\n",
      "4 1 2 3 5 "
     ]
    }
   ],
   "source": [
    "def rotateArr(k,n, arr):\n",
    "  \n",
    "  for i in range(n-k, n-1):\n",
    "    \n",
    "    x=arr.pop(i)\n",
    "    arr.insert(0,x)\n",
    "    \n",
    "      \n",
    "  return arr\n",
    "  \n",
    "t = int(input())\n",
    "for i in range(t):\n",
    "  n, k = map(int, input().split())\n",
    "  arr = list(map(int, input().split()))\n",
    "  res=rotateArr(k,n, arr)\n",
    "for i in range(len(res)):\n",
    "  print(res[i], end=\" \")"
   ]
  },
  {
   "cell_type": "code",
   "execution_count": 138,
   "metadata": {},
   "outputs": [
    {
     "name": "stdout",
     "output_type": "stream",
     "text": [
      "1\n",
      "5 8\n",
      "1 2 3 4 5\n",
      "5 4 3 1 2 \n",
      "\n"
     ]
    }
   ],
   "source": [
    "# Reversal algorithm\n",
    "def reverseArr(arr, i, j):\n",
    "    while i<j:\n",
    "        temp = arr[i]\n",
    "        arr[i]=arr[j]\n",
    "        arr[j]=temp\n",
    "        i+=1\n",
    "        j-=1\n",
    "    \n",
    "def rotateArrayByN(arr, n, k):\n",
    "    reverseArr(arr, n-k,n-1)\n",
    "    reverseArr(arr, 0, n-k-1)\n",
    "    reverseArr(arr, 0, n-1)\n",
    "    return arr\n",
    "    \n",
    "t = int(input())\n",
    "for i in range(t):\n",
    "  n, k = map(int, input().split())\n",
    "  arr = list(map(int, input().split()))\n",
    "  res=rotateArrayByN(arr, n, k)\n",
    "  for i in range(len(res)):\n",
    "    print(res[i], end=\" \")\n",
    "  print('\\n')"
   ]
  },
  {
   "cell_type": "code",
   "execution_count": 143,
   "metadata": {},
   "outputs": [
    {
     "data": {
      "text/plain": [
       "3"
      ]
     },
     "execution_count": 143,
     "metadata": {},
     "output_type": "execute_result"
    }
   ],
   "source": [
    "def findMissingNumber(arr):\n",
    "    n=len(arr)\n",
    "    sum_=(n+2)*(n+1)//2 \n",
    "    sum_ar=0\n",
    "    for i in arr:\n",
    "        sum_ar+=i\n",
    "    return sum_-sum_ar\n",
    "findMissingNumber([1, 2, 5, 4 ,6, 7])"
   ]
  },
  {
   "cell_type": "code",
   "execution_count": 145,
   "metadata": {},
   "outputs": [
    {
     "name": "stdout",
     "output_type": "stream",
     "text": [
      "6\n",
      "3 2 4 1 2 3\n",
      "2\n"
     ]
    }
   ],
   "source": [
    "def uniqueShirt(arr):\n",
    "    \n",
    "    k={}\n",
    "    count=0\n",
    "    for i in arr:\n",
    "        if i not in k:\n",
    "            k[i]=1\n",
    "        else:\n",
    "            k[i]+=1\n",
    "    for i in k:\n",
    "        if k[i]==1:\n",
    "            count+=1\n",
    "    return count\n",
    "        \n",
    "n=int(input())\n",
    "arr = list(map(int, input().split()))\n",
    "res = uniqueShirt(arr)\n",
    "print(res)"
   ]
  },
  {
   "cell_type": "code",
   "execution_count": 4,
   "metadata": {},
   "outputs": [
    {
     "name": "stdout",
     "output_type": "stream",
     "text": [
      "1\n",
      "5 5\n",
      "600\n"
     ]
    }
   ],
   "source": [
    "t=int(input())\n",
    "for i in range(t):\n",
    "    n, k= map(int, input().split())\n",
    "    chock=k\n",
    "    for j in range(1,n+1):\n",
    "        chock=j*chock\n",
    "    print(chock)"
   ]
  },
  {
   "cell_type": "code",
   "execution_count": 15,
   "metadata": {},
   "outputs": [
    {
     "name": "stdout",
     "output_type": "stream",
     "text": [
      "1\n",
      "15 1\n",
      "1307674368000\n"
     ]
    }
   ],
   "source": [
    "t=int(input())\n",
    "for i in range(t):\n",
    "  n, k= map(int, input().split())\n",
    "  mul=1\n",
    "  for j in range(1,n+1):\n",
    "    mul*=j\n",
    "  print(mul)"
   ]
  },
  {
   "cell_type": "code",
   "execution_count": 19,
   "metadata": {},
   "outputs": [
    {
     "name": "stdout",
     "output_type": "stream",
     "text": [
      "Enter a number: 10000000000\n"
     ]
    },
    {
     "ename": "KeyboardInterrupt",
     "evalue": "",
     "output_type": "error",
     "traceback": [
      "\u001b[1;31m---------------------------------------------------------------------------\u001b[0m",
      "\u001b[1;31mKeyboardInterrupt\u001b[0m                         Traceback (most recent call last)",
      "\u001b[1;32m<ipython-input-19-debd96f89a62>\u001b[0m in \u001b[0;36m<module>\u001b[1;34m\u001b[0m\n\u001b[0;32m     13\u001b[0m \u001b[0mx\u001b[0m \u001b[1;33m=\u001b[0m \u001b[0mint\u001b[0m\u001b[1;33m(\u001b[0m\u001b[0minput\u001b[0m\u001b[1;33m(\u001b[0m\u001b[1;34m\"Enter a number: \"\u001b[0m\u001b[1;33m)\u001b[0m\u001b[1;33m)\u001b[0m\u001b[1;33m\u001b[0m\u001b[1;33m\u001b[0m\u001b[0m\n\u001b[0;32m     14\u001b[0m \u001b[1;33m\u001b[0m\u001b[0m\n\u001b[1;32m---> 15\u001b[1;33m \u001b[0mf\u001b[0m \u001b[1;33m=\u001b[0m \u001b[0mfactorial\u001b[0m\u001b[1;33m(\u001b[0m\u001b[0mx\u001b[0m\u001b[1;33m)\u001b[0m\u001b[1;33m\u001b[0m\u001b[1;33m\u001b[0m\u001b[0m\n\u001b[0m\u001b[0;32m     16\u001b[0m \u001b[1;33m\u001b[0m\u001b[0m\n\u001b[0;32m     17\u001b[0m \u001b[0mprint\u001b[0m\u001b[1;33m(\u001b[0m\u001b[1;34m\"Factorial of\"\u001b[0m\u001b[1;33m,\u001b[0m \u001b[0mx\u001b[0m\u001b[1;33m,\u001b[0m \u001b[1;34m'='\u001b[0m\u001b[1;33m,\u001b[0m \u001b[0mf\u001b[0m\u001b[1;33m)\u001b[0m\u001b[1;33m\u001b[0m\u001b[1;33m\u001b[0m\u001b[0m\n",
      "\u001b[1;32m<ipython-input-19-debd96f89a62>\u001b[0m in \u001b[0;36mfactorial\u001b[1;34m(number)\u001b[0m\n\u001b[0;32m      7\u001b[0m \u001b[1;33m\u001b[0m\u001b[0m\n\u001b[0;32m      8\u001b[0m     \u001b[1;32mfor\u001b[0m \u001b[0mx\u001b[0m \u001b[1;32min\u001b[0m \u001b[0mrange\u001b[0m\u001b[1;33m(\u001b[0m\u001b[1;36m1\u001b[0m\u001b[1;33m,\u001b[0m \u001b[0mnumber\u001b[0m \u001b[1;33m+\u001b[0m \u001b[1;36m1\u001b[0m\u001b[1;33m,\u001b[0m \u001b[1;36m1\u001b[0m\u001b[1;33m)\u001b[0m\u001b[1;33m:\u001b[0m\u001b[1;33m\u001b[0m\u001b[1;33m\u001b[0m\u001b[0m\n\u001b[1;32m----> 9\u001b[1;33m         \u001b[0mresult\u001b[0m \u001b[1;33m*=\u001b[0m \u001b[0mx\u001b[0m\u001b[1;33m\u001b[0m\u001b[1;33m\u001b[0m\u001b[0m\n\u001b[0m\u001b[0;32m     10\u001b[0m     \u001b[1;32mreturn\u001b[0m \u001b[0mresult\u001b[0m\u001b[1;33m\u001b[0m\u001b[1;33m\u001b[0m\u001b[0m\n\u001b[0;32m     11\u001b[0m \u001b[1;33m\u001b[0m\u001b[0m\n",
      "\u001b[1;31mKeyboardInterrupt\u001b[0m: "
     ]
    }
   ],
   "source": [
    "def factorial(number):\n",
    "\n",
    "    if number == 1 or number == 0:\n",
    "        return 1\n",
    "\n",
    "    result = 1 # variable to hold the result\n",
    "\n",
    "    for x in range(1, number + 1, 1):\n",
    "        result *= x\n",
    "    return result\n",
    "\n",
    "\n",
    "x = int(input(\"Enter a number: \"))\n",
    "\n",
    "f = factorial(x)\n",
    "\n",
    "print(\"Factorial of\", x, '=', f)"
   ]
  },
  {
   "cell_type": "code",
   "execution_count": 23,
   "metadata": {},
   "outputs": [
    {
     "name": "stdout",
     "output_type": "stream",
     "text": [
      "Minimum operations: 1\n"
     ]
    }
   ],
   "source": [
    "\n",
    "\n",
    "# Python 3 program to find  \n",
    "# minimum number of operations  \n",
    "# required to make all array \n",
    "# elements zero  \n",
    "  \n",
    "# Function to find minimum number  \n",
    "# of operations required to make  \n",
    "# all array elements zero  \n",
    "def minimumChanges(arr, n) : \n",
    "  \n",
    "    # It will maintain total \n",
    "    # changes required  \n",
    "    changes = 0\n",
    "      \n",
    "    i = 0\n",
    "      \n",
    "    while i < n : \n",
    "  \n",
    "        # Check for the first 1 \n",
    "        if arr[i] == 1 : \n",
    "  \n",
    "            j = i + 1\n",
    "  \n",
    "            # Check for number of  \n",
    "            # consecutive 1's  \n",
    "            while j < n: \n",
    "  \n",
    "                if arr[j] == 0 : \n",
    "                    break\n",
    "  \n",
    "                j += 1\n",
    "  \n",
    "            # Increment i to the position  \n",
    "            # of last consecutive 1  \n",
    "            i = j - 1\n",
    "              \n",
    "            changes += 1\n",
    "  \n",
    "        i += 1\n",
    "          \n",
    "    return changes \n",
    "  \n",
    "# Driver code      \n",
    "if __name__ == \"__main__\" : \n",
    "  \n",
    "    arr = [2 ,1 ,2 ,1] \n",
    "    n = len(arr) \n",
    "  \n",
    "    print(\"Minimum operations:\",  \n",
    "           minimumChanges(arr, n)) \n",
    "  \n",
    "# This code i"
   ]
  },
  {
   "cell_type": "code",
   "execution_count": 2,
   "metadata": {},
   "outputs": [
    {
     "name": "stdout",
     "output_type": "stream",
     "text": [
      "5\n",
      "1 2 3 4 5\n",
      "2\n",
      "3\n",
      "4\n",
      "5\n"
     ]
    }
   ],
   "source": [
    "n = int(input())\n",
    "a = list(map(int, (input().split())))\n",
    "sum = abs(a[0])\n",
    "for i in range(1,n):\n",
    "    print(a[i])\n",
    "    sum += (abs(a[i] - a[i-1]))\n",
    "# print(sum)"
   ]
  },
  {
   "cell_type": "code",
   "execution_count": 10,
   "metadata": {},
   "outputs": [],
   "source": [
    "def migratoryBirds(arr):\n",
    "    k=[0 for i in range(len(arr))]\n",
    "    for i in arr:\n",
    "        k[i]+=1\n",
    "    max_=max(k)\n",
    "    for i in range(len(k)):\n",
    "        if k[i]==max_:\n",
    "            return i+1\n"
   ]
  },
  {
   "cell_type": "code",
   "execution_count": 11,
   "metadata": {},
   "outputs": [
    {
     "data": {
      "text/plain": [
       "5"
      ]
     },
     "execution_count": 11,
     "metadata": {},
     "output_type": "execute_result"
    }
   ],
   "source": [
    "migratoryBirds([1, 4, 4 ,4 ,5 ,3])"
   ]
  },
  {
   "cell_type": "code",
   "execution_count": null,
   "metadata": {},
   "outputs": [],
   "source": [
    "#!/bin/python3\n",
    "# https://www.hackerrank.com/challenges/bon-appetit/problem\n",
    "import math\n",
    "import os\n",
    "import random\n",
    "import re\n",
    "import sys\n",
    "\n",
    "# Complete the bonAppetit function below.\n",
    "def bonAppetit(bill, k, b):\n",
    "    \n",
    "    amt=bill[k] \n",
    "    sum_=0\n",
    "    for i in range(len(bill)):\n",
    "        if i!=k:\n",
    "            sum_+=bill[i]\n",
    "    billpay=(sum_//2)\n",
    "    res=b-billpay\n",
    "    if res>0:\n",
    "        print(res)\n",
    "    else:\n",
    "        print(\"Bon Appetit\") \n",
    "    print()\n",
    "      \n",
    "\n",
    "if __name__ == '__main__':\n",
    "    nk = input().rstrip().split()\n",
    "\n",
    "    n = int(nk[0])\n",
    "\n",
    "    k = int(nk[1])\n",
    "\n",
    "    bill = list(map(int, input().rstrip().split()))\n",
    "\n",
    "    b = int(input().strip())\n",
    "\n",
    "    bonAppetit(bill, k, b)\n"
   ]
  },
  {
   "cell_type": "code",
   "execution_count": null,
   "metadata": {},
   "outputs": [],
   "source": []
  }
 ],
 "metadata": {
  "kernelspec": {
   "display_name": "Python 3",
   "language": "python",
   "name": "python3"
  },
  "language_info": {
   "codemirror_mode": {
    "name": "ipython",
    "version": 3
   },
   "file_extension": ".py",
   "mimetype": "text/x-python",
   "name": "python",
   "nbconvert_exporter": "python",
   "pygments_lexer": "ipython3",
   "version": "3.7.9"
  }
 },
 "nbformat": 4,
 "nbformat_minor": 4
}
