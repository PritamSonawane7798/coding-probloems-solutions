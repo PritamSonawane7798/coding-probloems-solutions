{
 "cells": [
  {
   "cell_type": "code",
   "execution_count": null,
   "metadata": {},
   "outputs": [],
   "source": [
    "# Sales by Match\n",
    "def sockMerchant(n, ar):\n",
    "    l={}\n",
    "    for i in ar:\n",
    "        if i not in l:\n",
    "            l[i]=1\n",
    "        else:\n",
    "            l[i]+=1\n",
    "    ans=0\n",
    "    for j in l:\n",
    "        ans+=int(l[j]/2)\n",
    "        \n",
    "    return ans"
   ]
  },
  {
   "cell_type": "code",
   "execution_count": 4,
   "metadata": {},
   "outputs": [
    {
     "data": {
      "text/plain": [
       "-1"
      ]
     },
     "execution_count": 4,
     "metadata": {},
     "output_type": "execute_result"
    }
   ],
   "source": [
    "def countingValleys(steps, path):\n",
    "    # Write your code here\n",
    "    ans=\n",
    "    for i in path:\n",
    "        if i=='U':\n",
    "            ans+=1\n",
    "        else:\n",
    "            ans-=1\n",
    "    return ans\n",
    "lst='DDUUDDUDUUUD'.split()\n",
    "countingValleys(12, lst)"
   ]
  },
  {
   "cell_type": "code",
   "execution_count": 5,
   "metadata": {},
   "outputs": [],
   "source": [
    "def plusMinus(arr):\n",
    "    x={'z':0,'p':0,'n':0}\n",
    "    l=len(arr)\n",
    "    for i in arr:\n",
    "        if i==0:\n",
    "            x['z']+=1\n",
    "        elif i>0:\n",
    "            x['p']+=1\n",
    "        else:\n",
    "            x['n']+=1\n",
    "    print(x['p']/l)\n",
    "    print(x['n']/l)\n",
    "    print(x['z']/l) "
   ]
  },
  {
   "cell_type": "code",
   "execution_count": 6,
   "metadata": {},
   "outputs": [
    {
     "data": {
      "text/plain": [
       "(0.5, 0.3333333333333333, 0.16666666666666666)"
      ]
     },
     "execution_count": 6,
     "metadata": {},
     "output_type": "execute_result"
    }
   ],
   "source": [
    "plusMinus([-4 ,3 ,-9 ,0 ,4 ,1])"
   ]
  },
  {
   "cell_type": "code",
   "execution_count": 44,
   "metadata": {},
   "outputs": [],
   "source": [
    "def staircase(n):\n",
    "    \n",
    "    k=1\n",
    "    while k<=n:\n",
    "        i=0\n",
    "        while i<n-k:\n",
    "            print(' ',end='')\n",
    "            i+=1\n",
    "        while i<n:\n",
    "            print('#',end='')\n",
    "            i+=1\n",
    "        k+=1  \n",
    "        print()"
   ]
  },
  {
   "cell_type": "code",
   "execution_count": 45,
   "metadata": {},
   "outputs": [
    {
     "name": "stdout",
     "output_type": "stream",
     "text": [
      "       \n",
      "      #\n",
      "     ##\n",
      "    ###\n",
      "   ####\n",
      "  #####\n",
      " ######\n"
     ]
    }
   ],
   "source": [
    "staircase(6)"
   ]
  },
  {
   "cell_type": "code",
   "execution_count": 1,
   "metadata": {},
   "outputs": [],
   "source": [
    "#!/bin/python3\n",
    "\n",
    "import math\n",
    "import os\n",
    "import random\n",
    "import re\n",
    "import sys\n",
    "\n",
    "# Complete the miniMaxSum function below.\n",
    "def merge(a,b,arr):\n",
    "    i, j,k=0,0,0\n",
    "    while i< len(a) and j < len(b):\n",
    "        if a[i]< b[j]:\n",
    "            arr[k] = a[i]\n",
    "            k+=1\n",
    "            i+=1\n",
    "        else:\n",
    "            arr[k] = b[j]\n",
    "            k+=1\n",
    "            j+=1\n",
    "    while i < len(a):\n",
    "        arr[k]=a[i]\n",
    "        k+=1\n",
    "        i+=1\n",
    "    while j < len(b):\n",
    "        arr[k]=b[j]\n",
    "        k+=1\n",
    "        j+=1\n",
    "def mergeSort(arr, start, end):\n",
    "    \n",
    "    if end==0 or end==1:\n",
    "        return\n",
    "    mid=end//2\n",
    "    b=arr[:mid]\n",
    "    c=arr[mid:]\n",
    "    mergeSort(b,0,len(b))\n",
    "    mergeSort(c,0,len(c))\n",
    "    merge(b,c,arr)\n",
    "    return arr\n",
    "    \n",
    "def miniMaxSum(arr):\n",
    "    arr = mergeSort(arr,0,len(arr))\n",
    "    i=0\n",
    "    #1 2 3 4 5\n",
    "    maxSum=0\n",
    "    for j in range(1,len(arr)):\n",
    "        maxSum += arr[j]\n",
    "    minSum=0\n",
    "    for j in range(len(arr)-2,-1,-1):\n",
    "        minSum += arr[j]\n",
    "    print(minSum, maxSum)\n",
    "                \n",
    "                \n",
    "            \n",
    "\n",
    "if __name__ == '__main__':\n",
    "    arr = list(map(int, input().rstrip().split()))\n",
    "\n",
    "    miniMaxSum(arr)\n"
   ]
  },
  {
   "cell_type": "code",
   "execution_count": null,
   "metadata": {},
   "outputs": [],
   "source": [
    "candles = [3 ,2 ,1 ,3]\n",
    "\n",
    "def birthdayCakeCandles(arr):\n",
    "    # Write your code here\n",
    "    count=0\n",
    "    big = max(ar)\n",
    "    for i in range(len(ar)):\n",
    "        if(ar[i]==big):\n",
    "            count+=1\n",
    "    return count    i\n",
    "        \n",
    "    \n",
    "    \n",
    "                \n",
    "                \n",
    "            "
   ]
  },
  {
   "cell_type": "code",
   "execution_count": 5,
   "metadata": {},
   "outputs": [],
   "source": [
    "def TotalWays(n, s, k): \n",
    "  \n",
    "    # Initialize dp array \n",
    "    dp = [0]*n \n",
    "  \n",
    "    # Initialize (s-1)th index to 1 \n",
    "    dp[s - 1] = 1\n",
    "  \n",
    "    # Iterate a loop from s to n \n",
    "    for i in range(s, n): \n",
    "  \n",
    "        # starting range for counting ranges \n",
    "        idx = max(s - 1, i - k) \n",
    "  \n",
    "        # Calculate Maximum moves to \n",
    "        # Reach ith step \n",
    "        for j in range( idx, i) : \n",
    "            dp[i] += dp[j] \n",
    "  \n",
    "    # For nth step return dp[n-1] \n",
    "    return dp[n - 1] "
   ]
  },
  {
   "cell_type": "code",
   "execution_count": 2,
   "metadata": {},
   "outputs": [],
   "source": [
    "## Read input as specified in the question.\n",
    "## Print output as specified in the question.\n",
    "#  Remove Consecutive Duplicates\n",
    "# Send Feedback\n",
    "# For a given string(str), remove all the consecutive duplicate characters.\n",
    "# Example:\n",
    "\n",
    "# Input String: \"aaaa\"\n",
    "# Expected Output: \"a\"\n",
    "\n",
    "# Input String: \"aabbbcc\"\n",
    "# Expected Output: \"abc\"\n",
    "\n",
    "# Constraints:\n",
    "\n",
    "# 0 <= N <= 10^6\n",
    "# Where N is the length of the input string.\n",
    "\n",
    "# Time Limit: 1 second\n",
    "\n",
    "# Sample Input 1:\n",
    "\n",
    "# aabccbaa\n",
    "\n",
    "# Sample Output 1:\n",
    "\n",
    "# abcba\n",
    "\n",
    "\n",
    "def removeDuplicate(str):\n",
    "    n=len(str)\n",
    "    if n<2:\n",
    "        return\n",
    "    j=0\n",
    "    for i in range(n):\n",
    "        if str[j]!=str[i]:\n",
    "            j+=1\n",
    "            str[j]=str[i]\n",
    "            \n",
    "    j+=1\n",
    "    str=str[:j]\n",
    "    str=''.join(str)\n",
    "    return str\n",
    "    \n",
    "str=input()\n",
    "str=list(str.rstrip())\n",
    "str1=removeDuplicate(str)\n",
    "print(str1)"
   ]
  },
  {
   "cell_type": "code",
   "execution_count": 3,
   "metadata": {},
   "outputs": [
    {
     "name": "stdout",
     "output_type": "stream",
     "text": [
      "aaabbcddeeeee\n",
      "a3b2cd2e5\n"
     ]
    }
   ],
   "source": [
    "#  Compress the String\n",
    "# Send Feedback\n",
    "# Write a program to do basic string compression. For a character which is consecutively repeated more than once, replace consecutive duplicate occurrences with the count of repetitions.\n",
    "# Exmple:\n",
    "\n",
    "# If a string has 'x' repeated 5 times, replace this \"xxxxx\" with \"x5\".\n",
    "\n",
    "# The string is compressed only when the repeated character count is more than 1.\n",
    "# Sample Input 1:\n",
    "\n",
    "# aaabbccdsa\n",
    "\n",
    "# Sample Output 1:\n",
    "\n",
    "# a3b2c2dsa\n",
    "\n",
    "# Sample Input 2:\n",
    "\n",
    "# aaabbcddeeeee\n",
    "\n",
    "# Sample Output 2:\n",
    "\n",
    "# a3b2cd2e\n",
    "\n",
    "# 5\n",
    "\n",
    "# Code Pair\n",
    "\n",
    "\n",
    "\n",
    "## Read input as specified in the question.\n",
    "## Print output as specified in the question.\n",
    "def compressString(st):\n",
    "    result=\"\"\n",
    "    c=1\n",
    "    result+=st[0]\n",
    "    for i in range(len(st)-1):\n",
    "        if st[i]==st[i+1]:\n",
    "            c+=1\n",
    "        else:\n",
    "            if c>1:\n",
    "                result+=str(c)\n",
    "            result+=st[i+1]\n",
    "            c=1\n",
    "    if c>1:\n",
    "        result+=str(c)\n",
    "    \n",
    "    return result\n",
    "st=input()\n",
    "res=''\n",
    "res+=compressString(st)\n",
    "print(res)"
   ]
  },
  {
   "cell_type": "code",
   "execution_count": 7,
   "metadata": {},
   "outputs": [],
   "source": [
    "arr = [1,2,3,4,5]\n",
    "end=len(arr)\n",
    "start = 0\n",
    "while(start<end)\n",
    "      temp\n",
    "    \n",
    "    \n",
    "    {\n",
    "        temp=a[start];\n",
    "        a[start]=a[end];\n",
    "        a[end]=temp;\n",
    "      }\n",
    "      start++;\n",
    "      end--;"
   ]
  },
  {
   "cell_type": "code",
   "execution_count": 8,
   "metadata": {},
   "outputs": [
    {
     "data": {
      "text/plain": [
       "[7, 1, 2, 3, 4, 5]"
      ]
     },
     "execution_count": 8,
     "metadata": {},
     "output_type": "execute_result"
    }
   ],
   "source": [
    "x"
   ]
  },
  {
   "cell_type": "code",
   "execution_count": null,
   "metadata": {},
   "outputs": [],
   "source": []
  },
  {
   "cell_type": "code",
   "execution_count": null,
   "metadata": {},
   "outputs": [],
   "source": []
  }
 ],
 "metadata": {
  "kernelspec": {
   "display_name": "Python 3",
   "language": "python",
   "name": "python3"
  },
  "language_info": {
   "codemirror_mode": {
    "name": "ipython",
    "version": 3
   },
   "file_extension": ".py",
   "mimetype": "text/x-python",
   "name": "python",
   "nbconvert_exporter": "python",
   "pygments_lexer": "ipython3",
   "version": "3.7.9"
  }
 },
 "nbformat": 4,
 "nbformat_minor": 4
}
