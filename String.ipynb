{
 "cells": [
  {
   "cell_type": "code",
   "execution_count": 26,
   "metadata": {},
   "outputs": [],
   "source": [
    "def duplicateStr1(string):\n",
    "    k={}\n",
    "    res={}\n",
    "    for i in string:\n",
    "        if i not in k:\n",
    "            k[i]=1\n",
    "        else:\n",
    "            k[i]+=1\n",
    "            res[i]=k[i]"
   ]
  },
  {
   "cell_type": "code",
   "execution_count": 67,
   "metadata": {},
   "outputs": [
    {
     "name": "stdout",
     "output_type": "stream",
     "text": [
      "1\n",
      "None\n",
      "-1\n"
     ]
    }
   ],
   "source": [
    "def duplicateStr2(string):\n",
    "    arr = [0 for i in range(27)]\n",
    "    count=0\n",
    "    for i in range(len(string)):\n",
    "        arr[ord(string[i])-97]+=1\n",
    "    for j in range(len(arr)):\n",
    "        if arr[j]>1: \n",
    "            count+=1\n",
    "            print(chr(j+97) ,\"=\", arr[j], end=\" \")\n",
    "    if count==0:\n",
    "        print(-1)\n",
    "        \n",
    "\n",
    "t=int(input())\n",
    "for i in range(t):\n",
    "  string=input()\n",
    "  duplicateStr2(string)"
   ]
  },
  {
   "cell_type": "code",
   "execution_count": 37,
   "metadata": {},
   "outputs": [
    {
     "name": "stdout",
     "output_type": "stream",
     "text": [
      "legoog google\n",
      "YES\n"
     ]
    }
   ],
   "source": [
    "def fakePass(string, fake):\n",
    "    left = fake[2:]+fake[:2]\n",
    "    right = fake[len(fake)-2:]+fake[:len(fake)-2]\n",
    "    print(left, right)\n",
    "    if left==string:\n",
    "        return \"YES\"\n",
    "    elif right==string:\n",
    "        return \"YES\"\n",
    "    else:\n",
    "        return \"NO\"\n",
    "    \n",
    "print(fakePass(\"google\", \"oglego\"))"
   ]
  },
  {
   "cell_type": "code",
   "execution_count": 17,
   "metadata": {},
   "outputs": [],
   "source": [
    "def firstLater(string):\n",
    "    arr=[]\n",
    "    for i in string:\n",
    "        if i not in arr:\n",
    "            arr.append(i)\n",
    "        else:\n",
    "            arr.remove(i)\n",
    "    print(arr[0])\n",
    "    "
   ]
  },
  {
   "cell_type": "code",
   "execution_count": 21,
   "metadata": {},
   "outputs": [
    {
     "name": "stdout",
     "output_type": "stream",
     "text": [
      "y\n"
     ]
    }
   ],
   "source": [
    "firstLater(\"xxzzyyy\")"
   ]
  },
  {
   "cell_type": "code",
   "execution_count": 37,
   "metadata": {},
   "outputs": [
    {
     "name": "stdout",
     "output_type": "stream",
     "text": [
      "ab\n",
      "ac\n",
      "ad\n",
      "bc\n",
      "bd\n",
      "cd\n",
      "0.0009982585906982422\n"
     ]
    }
   ],
   "source": [
    "def permutation(lst, n): \n",
    "      \n",
    "    if n == 0: \n",
    "        return [[]] \n",
    "      \n",
    "    l =[] \n",
    "    for i in range(0, len(lst)): \n",
    "          \n",
    "        m = lst[i] \n",
    "        remLst = lst[i + 1:] \n",
    "          \n",
    "        for p in permutation(remLst, n-1): \n",
    "            tmp=[m]+p\n",
    "        \n",
    "            l.append([m]+p) \n",
    "              \n",
    "    return l\n",
    "import time\n",
    "t1=time.time()\n",
    "l = permutation(\"abcd\", 2)  \n",
    "for i in l:\n",
    "    print(\"\".join(i))\n",
    "print(time.time()-t1)"
   ]
  },
  {
   "cell_type": "code",
   "execution_count": 11,
   "metadata": {},
   "outputs": [
    {
     "name": "stdout",
     "output_type": "stream",
     "text": [
      "3\n",
      "hello\n",
      "0\n",
      "hello\n",
      "0\n",
      "zxvczbtxyzvy\n",
      "3\n"
     ]
    }
   ],
   "source": [
    "def firstChar(string):\n",
    "    k={}\n",
    "    for i in string:\n",
    "        if i not in k:\n",
    "            k[i]=1\n",
    "        else:\n",
    "            k.pop(i)\n",
    "    \n",
    "    if not bool(k):\n",
    "        print(-1)\n",
    "    else:\n",
    "        for j in k:\n",
    "            print(string.index(j))\n",
    "            break\n",
    "    \n",
    "t=int(input())\n",
    "for i in range(t):\n",
    "    string=input()\n",
    "    firstChar(string)\n",
    "\n",
    "    "
   ]
  },
  {
   "cell_type": "code",
   "execution_count": 13,
   "metadata": {},
   "outputs": [
    {
     "name": "stdout",
     "output_type": "stream",
     "text": [
      "3\n",
      "hello\n",
      "0\n",
      "zxvczbtxyzvy\n",
      "3\n",
      "xxyyzz\n",
      "-1\n"
     ]
    }
   ],
   "source": [
    "def firstChar(string):\n",
    "    seen=[]\n",
    "    unseen=[]\n",
    "    for ele in string:\n",
    "        if ele in unseen:\n",
    "            seen.append(ele)\n",
    "            unseen.remove(ele)\n",
    "        elif ele in seen:\n",
    "            continue\n",
    "        else:\n",
    "            unseen.append(ele)\n",
    "    if unseen:\n",
    "        return string.find(unseen[0])\n",
    "    else:\n",
    "        return -1\n",
    "\n",
    "    \n",
    "t=int(input())\n",
    "for i in range(t):\n",
    "  string=input()\n",
    "  print(firstChar(string))\n",
    "\n",
    "    "
   ]
  },
  {
   "cell_type": "code",
   "execution_count": 28,
   "metadata": {},
   "outputs": [],
   "source": [
    "def isSubSequence(str1,str2): \n",
    "    m = len(str1) \n",
    "    n = len(str2) \n",
    "      \n",
    "    j = 0\n",
    "    i = 0 \n",
    "        \n",
    "    while j<m and i<n: \n",
    "        if str1[j] == str2[i]:     \n",
    "            j = j+1    \n",
    "        i = i + 1\n",
    "    return j==m "
   ]
  },
  {
   "cell_type": "code",
   "execution_count": 27,
   "metadata": {},
   "outputs": [
    {
     "data": {
      "text/plain": [
       "True"
      ]
     },
     "execution_count": 27,
     "metadata": {},
     "output_type": "execute_result"
    }
   ],
   "source": [
    "isSubSequence(\"pptes\",\"prepbytes\")"
   ]
  },
  {
   "cell_type": "code",
   "execution_count": 12,
   "metadata": {},
   "outputs": [
    {
     "name": "stdout",
     "output_type": "stream",
     "text": [
      "[115, 116, 114, 105, 110, 103]\n",
      "[116, 115, 114, 110, 105, 103]\n",
      "<map object at 0x00000206D60CE348>\n",
      "tsrnig\n"
     ]
    }
   ],
   "source": [
    "def sortString(string):\n",
    "    lst=list(map(ord, string))\n",
    "    print(lst)\n",
    "    for i in range(len(lst)):\n",
    "        for j in range(i, len(lst)):\n",
    "            if lst[i]>lst[j]:\n",
    "                pass\n",
    "            else:\n",
    "                temp=lst[j]\n",
    "                lst[j]=lst[i]\n",
    "                lst[i]=temp\n",
    "    print(lst)\n",
    "    print(map(chr, lst))\n",
    "    string_ = \"\".join(map(chr, lst))\n",
    "    return string_\n",
    "print(sortString(\"string\"))"
   ]
  },
  {
   "cell_type": "code",
   "execution_count": 27,
   "metadata": {},
   "outputs": [
    {
     "name": "stdout",
     "output_type": "stream",
     "text": [
      "[116, 115, 114, 110, 105, 103]\n"
     ]
    }
   ],
   "source": [
    "def mergeSort(arr):\n",
    "    if len(arr)==0:\n",
    "        return arr\n",
    "    elif len(arr)==1:\n",
    "        return arr\n",
    "    mid=len(arr)//2\n",
    "    left=arr[mid:]\n",
    "    right=arr[:mid]\n",
    "    mergeSort(left)\n",
    "    mergeSort(right)\n",
    "    j, m=0,0\n",
    "    k=0\n",
    "    while j<len(left) and m<len(right):\n",
    "        if left[j]>right[m]:\n",
    "            arr[k]=left[j]\n",
    "            k+=1\n",
    "            j+=1\n",
    "        else:\n",
    "            arr[k]=right[m]\n",
    "            m+=1\n",
    "            k+=1\n",
    "    while j<len(left):\n",
    "        arr[k]=left[j]\n",
    "        k+=1\n",
    "        j+=1\n",
    "    while m<len(right):\n",
    "        arr[k]=right[m]\n",
    "        k+=1\n",
    "        m+=1\n",
    "    return arr\n",
    "def sortString(string):\n",
    "    lst=list(map(ord, string))\n",
    "    arr = mergeSort(lst)\n",
    "    return \"\".join(map(chr, arr))\n",
    "    \n",
    "t=int(input())\n",
    "for i in range(t):\n",
    "  string = input()\n",
    "  print(sortString(string))"
   ]
  },
  {
   "cell_type": "code",
   "execution_count": 81,
   "metadata": {},
   "outputs": [
    {
     "name": "stdout",
     "output_type": "stream",
     "text": [
      "NO\n"
     ]
    }
   ],
   "source": [
    "def nobleVowel(string):\n",
    "    vowel = \"aeiou\"\n",
    "    i=0\n",
    "    if len(string)>1:\n",
    "        while i<len(string)-1:\n",
    "\n",
    "            if string[i] in vowel and string[i+1] in vowel:\n",
    "                i+=2\n",
    "            elif string[i] not in vowel and string[i+1] in vowel:\n",
    "                i+=2\n",
    "            elif string[i] in vowel and string[i+1] not in vowel:\n",
    "                i+=2\n",
    "            elif string[i] ==\"n\" and string[i]==\"n\":\n",
    "                i+=2\n",
    "            elif string[i]==\"n\" and string[i] in vowel :\n",
    "                i+=2\n",
    "            else:\n",
    "                return \"NO\"\n",
    "\n",
    "        return \"YES\"\n",
    "    else:\n",
    "        return \"NO\"\n",
    "            \n",
    "print(nobleVowel(\"n\"))           \n"
   ]
  },
  {
   "cell_type": "code",
   "execution_count": 37,
   "metadata": {},
   "outputs": [
    {
     "name": "stdout",
     "output_type": "stream",
     "text": [
      "tsrnig\n"
     ]
    }
   ],
   "source": [
    "YES\n",
    "YES\n",
    "NO\n",
    "YES\n",
    "YES\n",
    "NO\n",
    "YES\n",
    "NO\n",
    "YES\n",
    "YES\n",
    "\n",
    "\n",
    "\n",
    "\n",
    "\n",
    "\n",
    "def duplicateChar(string):\n",
    "    lst=list(map(ord, string))\n",
    "    count=[]\n",
    "    for i in range(len(lst)):\n",
    "        \n",
    "            "
   ]
  },
  {
   "cell_type": "code",
   "execution_count": 41,
   "metadata": {},
   "outputs": [
    {
     "name": "stdout",
     "output_type": "stream",
     "text": [
      "1\n",
      "a\n",
      "-1\n",
      "\n"
     ]
    }
   ],
   "source": [
    "def duplicateStr2(string):\n",
    "    arr = [0 for i in range(27)]\n",
    "    count=0\n",
    "    for i in range(len(string)):\n",
    "        arr[ord(string[i])-97]+=1\n",
    "    for j in range(len(arr)):\n",
    "        if arr[j]>1: \n",
    "            count+=1\n",
    "            print(chr(j+97) ,\"=\", arr[j], end=\" \")\n",
    "    if count==0:\n",
    "        print(-1)\n",
    "\n",
    "\n",
    "    \n",
    "t=int(input())\n",
    "for i in range(t):\n",
    "    string=input()\n",
    "    duplicateStr2(string)\n",
    "    print()"
   ]
  },
  {
   "cell_type": "code",
   "execution_count": 14,
   "metadata": {},
   "outputs": [],
   "source": [
    "def tinaLoveA(string):\n",
    "    l=len(string)\n",
    "    count=string.count(\"a\")\n",
    "    mid = l//2\n",
    "    if count<mid:\n",
    "        res = ((l-count)//2)+1\n",
    "    else:\n",
    "        res = l\n",
    "    return res\n",
    "        "
   ]
  },
  {
   "cell_type": "code",
   "execution_count": 15,
   "metadata": {},
   "outputs": [
    {
     "name": "stdout",
     "output_type": "stream",
     "text": [
      "6\n"
     ]
    }
   ],
   "source": [
    "print(tinaLoveA(\"aaabaa\"))"
   ]
  },
  {
   "cell_type": "code",
   "execution_count": 15,
   "metadata": {},
   "outputs": [
    {
     "name": "stdout",
     "output_type": "stream",
     "text": [
      "1\n",
      "string\n",
      "ngstri\n",
      "ringst\n",
      "NO\n"
     ]
    }
   ],
   "source": [
    "\n",
    "def reverseArr(arr, i, j):\n",
    "    while i<j:\n",
    "        temp = arr[i]\n",
    "        arr[i]=arr[j]\n",
    "        arr[j]=temp\n",
    "        i+=1\n",
    "        j-=1\n",
    "    \n",
    "def rotateArrayByN(s1, k):\n",
    "    arr = [ord(i) for i in s1]\n",
    "    n=len(arr)\n",
    "    reverseArr(arr, n-k,n-1)\n",
    "    reverseArr(arr, 0, n-k-1)\n",
    "    reverseArr(arr, 0, n-1)\n",
    "    res = [chr(i) for i in arr]\n",
    "    return \"\".join(res)\n",
    "    \n",
    "t = int(input())\n",
    "for i in range(t):\n",
    "    s1=input()\n",
    "    s2=input()\n",
    "    rotatedStr = rotateArrayByN(s2, 2)\n",
    "    print(rotatedStr)\n",
    "    if s1==rotatedStr:\n",
    "        print(\"YES\")\n",
    "    else:\n",
    "        print(\"NO\")"
   ]
  },
  {
   "cell_type": "code",
   "execution_count": 38,
   "metadata": {},
   "outputs": [
    {
     "name": "stdout",
     "output_type": "stream",
     "text": [
      "6\n",
      "amazon\n",
      "onamaz\n",
      "amazon\n",
      "YES\n",
      "cricket\n",
      "etcrick\n",
      "cricket\n",
      "YES\n",
      "google\n",
      "oglego\n",
      "legoog\n",
      "YES\n",
      "shortcut\n",
      "cutshort\n",
      "tshortcu\n",
      "No\n",
      "public\n",
      "ublicp\n",
      "licpub\n",
      "No\n",
      "bluestack\n",
      "tackblues\n",
      "ckbluesta\n",
      "No\n"
     ]
    }
   ],
   "source": [
    "def rotateString(s, n):\n",
    "    return s[n:]+s[:n]\n",
    "\n",
    "\n",
    "t = int(input())\n",
    "for i in range(t):\n",
    "    s1=input()\n",
    "    s2=input()\n",
    "    \n",
    "    rotatedStr1 = rotateString(s2, 2)\n",
    "    rotatedStr2 = rotateString(s2, -2)\n",
    "    \n",
    "    if s1==rotatedStr1:\n",
    "        print(\"Yes\")\n",
    "    elif s1==rotatedStr2:\n",
    "        print(\"Yes\")\n",
    "    else:\n",
    "        print(\"No\")\n",
    "    "
   ]
  },
  {
   "cell_type": "code",
   "execution_count": 35,
   "metadata": {},
   "outputs": [
    {
     "data": {
      "text/plain": [
       "'legoog'"
      ]
     },
     "execution_count": 35,
     "metadata": {},
     "output_type": "execute_result"
    }
   ],
   "source": [
    "rotateString(\"oglego\", 2)"
   ]
  },
  {
   "cell_type": "code",
   "execution_count": 43,
   "metadata": {},
   "outputs": [
    {
     "name": "stdout",
     "output_type": "stream",
     "text": [
      "1\n",
      "(())\n",
      "{'(': ')'}\n",
      "Yes\n"
     ]
    }
   ],
   "source": [
    "def check(expression): \n",
    "      \n",
    "    open_tup = tuple('(') \n",
    "    close_tup = tuple(')') \n",
    "    map = dict(zip(open_tup, close_tup)) \n",
    "    print(map)\n",
    "    queue = [] \n",
    "  \n",
    "    for i in expression: \n",
    "        if i in open_tup: \n",
    "            queue.append(map[i]) \n",
    "        elif i in close_tup: \n",
    "            if not queue or i != queue.pop(): \n",
    "                return \"No\"\n",
    "    if not queue: \n",
    "        return \"Yes\"\n",
    "    else: \n",
    "        return \"Yes\"\n",
    "        \n",
    "t = int(input())\n",
    "for i in range(t):\n",
    "    s1=input()\n",
    "    if check(s1)==\"No\":\n",
    "      res=s1[1:]+s1[0]\n",
    "      print(check(res))\n",
    "    else:\n",
    "      print(\"Yes\")"
   ]
  },
  {
   "cell_type": "code",
   "execution_count": 51,
   "metadata": {},
   "outputs": [
    {
     "name": "stdout",
     "output_type": "stream",
     "text": [
      "1\n",
      "prepbytes\n",
      "0\n",
      "1\n",
      "3\n",
      "6\n",
      "6\n",
      "12\n",
      "24\n",
      "48\n",
      "96\n",
      "192\n"
     ]
    }
   ],
   "source": [
    "def uniqueSubstring(string):\n",
    "    if len(string)==0:\n",
    "        return 0\n",
    "    k={}\n",
    "    start = longestStrlen = 0\n",
    "    for i in range(len(string)):\n",
    "        \n",
    "        if string[i] in k and start <=k[string[i]]:\n",
    "            start = k[string[i]]+1\n",
    "        else:\n",
    "            longestStrlen += max(longestStrlen, i-start+1)\n",
    "        k[string[i]]=1\n",
    "    return longestStrlen\n",
    "\n",
    "t=int(input())\n",
    "for i in range(t):\n",
    "    string=input()\n",
    "    print(uniqueSubstring(string))\n",
    "            \n",
    "        "
   ]
  },
  {
   "cell_type": "code",
   "execution_count": 77,
   "metadata": {},
   "outputs": [
    {
     "name": "stdout",
     "output_type": "stream",
     "text": [
      "2\n",
      "14\n"
     ]
    }
   ],
   "source": [
    "def largest_subarray(string):\n",
    "    largstring=0\n",
    "    k={}\n",
    "    for i in range(len(string)):\n",
    "        if string[i] in k:\n",
    "            largstring = i-k[string[i]]\n",
    "        else:\n",
    "            \n",
    "     \n",
    "        \n",
    "\n",
    "\n",
    "print(largest_subarray(\"prepbytes\"))      \n",
    "        \n",
    "        \n",
    "        \n",
    "        "
   ]
  }
 ],
 "metadata": {
  "kernelspec": {
   "display_name": "Python 3",
   "language": "python",
   "name": "python3"
  },
  "language_info": {
   "codemirror_mode": {
    "name": "ipython",
    "version": 3
   },
   "file_extension": ".py",
   "mimetype": "text/x-python",
   "name": "python",
   "nbconvert_exporter": "python",
   "pygments_lexer": "ipython3",
   "version": "3.7.9"
  }
 },
 "nbformat": 4,
 "nbformat_minor": 4
}
