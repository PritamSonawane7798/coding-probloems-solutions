{
 "cells": [
  {
   "cell_type": "code",
   "execution_count": 17,
   "metadata": {},
   "outputs": [
    {
     "name": "stdout",
     "output_type": "stream",
     "text": [
      "2\n",
      "3\n",
      "4\n",
      "5\n",
      "6\n",
      "True\n"
     ]
    }
   ],
   "source": [
    "# prime number\n",
    "def isPrime(n):\n",
    "    if n==0 or n==1:\n",
    "        return False\n",
    "    x=n//2\n",
    "    res=False\n",
    "    \n",
    "    for i in range(2,x+1):\n",
    "        print(i)\n",
    "        if n%i==0:\n",
    "            return res\n",
    "    res=True    \n",
    "    return res\n",
    "print(isPrime(13))"
   ]
  },
  {
   "cell_type": "code",
   "execution_count": 4,
   "metadata": {},
   "outputs": [
    {
     "data": {
      "text/plain": [
       "False"
      ]
     },
     "execution_count": 4,
     "metadata": {},
     "output_type": "execute_result"
    }
   ],
   "source": [
    "# perfect number\n",
    "def perfectNumber(n):\n",
    "    mid = n//2\n",
    "    sum=0\n",
    "    for i in range(1,mid+1):\n",
    "        \n",
    "        if n % i==0:\n",
    "            sum+=i\n",
    "        else:\n",
    "            pass\n",
    "    if sum==n:\n",
    "        return True\n",
    "    else:\n",
    "        return False\n",
    "perfectNumber(3)  "
   ]
  },
  {
   "cell_type": "code",
   "execution_count": 5,
   "metadata": {},
   "outputs": [
    {
     "name": "stdout",
     "output_type": "stream",
     "text": [
      "1 1 1\n"
     ]
    }
   ],
   "source": [
    "class A:\n",
    "    def __str__(self):\n",
    "        return '1'\n",
    "class B(A):\n",
    "    def __init__(self):\n",
    "        super().__init__()\n",
    "class C(B):\n",
    "    def __init__(self):\n",
    "        super().__init__()\n",
    "def main():\n",
    "    obj1 = B()\n",
    "    obj2 = A()\n",
    "    obj3 = C()\n",
    "    print(obj1, obj2,obj3)\n",
    "main()"
   ]
  },
  {
   "cell_type": "code",
   "execution_count": 6,
   "metadata": {},
   "outputs": [
    {
     "name": "stdout",
     "output_type": "stream",
     "text": [
      "Google 1\n",
      "Facebook 2\n",
      "Microsoft 2\n",
      "Twitter 1\n",
      "Youtube 3\n"
     ]
    }
   ],
   "source": [
    "dictionary1 = {'Google' : 1, \n",
    "               'Facebook' : 2, \n",
    "               'Microsoft' : 3\n",
    "               } \n",
    "dictionary2 = {'Twitter' : 1, \n",
    "               'Microsoft' : 2, \n",
    "               'Youtube' : 3\n",
    "               } \n",
    "dictionary1.update(dictionary2)\n",
    "for key, values in dictionary1.items(): \n",
    "    print(key, values)"
   ]
  },
  {
   "cell_type": "code",
   "execution_count": 49,
   "metadata": {},
   "outputs": [],
   "source": [
    "# LCM \n",
    "def lcm(a,b):\n",
    "    if a>b:\n",
    "        higher=a\n",
    "    else:\n",
    "        higher=b\n",
    "    value = higher\n",
    "    while True:\n",
    "        if higher%a==0 and higher%b==0:\n",
    "#             print(higher)\n",
    "            return higher\n",
    "        else:\n",
    "            higher+=value\n",
    "def hcm(a,b):\n",
    "    return (a*b)//(lcm(a,b))\n",
    "def hcm2(arr,lcm):\n",
    "    return (sum(arr)//lcm)"
   ]
  },
  {
   "cell_type": "code",
   "execution_count": 47,
   "metadata": {},
   "outputs": [],
   "source": [
    "arr=[3360, 2240, 5600]"
   ]
  },
  {
   "cell_type": "code",
   "execution_count": 50,
   "metadata": {},
   "outputs": [],
   "source": [
    "from functools import reduce\n",
    "LCM = reduce(lambda x, y: lcm(x, y), arr)\n",
    "hcm = reduce(lambda x, y: hcm(x, y), arr)\n",
    "                "
   ]
  },
  {
   "cell_type": "code",
   "execution_count": 51,
   "metadata": {},
   "outputs": [
    {
     "data": {
      "text/plain": [
       "1120"
      ]
     },
     "execution_count": 51,
     "metadata": {},
     "output_type": "execute_result"
    }
   ],
   "source": [
    "hcm"
   ]
  },
  {
   "cell_type": "code",
   "execution_count": null,
   "metadata": {},
   "outputs": [],
   "source": []
  }
 ],
 "metadata": {
  "kernelspec": {
   "display_name": "Python 3",
   "language": "python",
   "name": "python3"
  },
  "language_info": {
   "codemirror_mode": {
    "name": "ipython",
    "version": 3
   },
   "file_extension": ".py",
   "mimetype": "text/x-python",
   "name": "python",
   "nbconvert_exporter": "python",
   "pygments_lexer": "ipython3",
   "version": "3.7.9"
  }
 },
 "nbformat": 4,
 "nbformat_minor": 4
}
