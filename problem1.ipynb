{
 "cells": [
  {
   "cell_type": "code",
   "execution_count": null,
   "metadata": {},
   "outputs": [],
   "source": [
    "10400 => 401"
   ]
  },
  {
   "cell_type": "code",
   "execution_count": 25,
   "metadata": {},
   "outputs": [],
   "source": [
    "# 0\n",
    "# 10400/10=1040\n",
    "# 0\n",
    "# 1040/10=104\n",
    "# 4\n",
    "# 104/10\n",
    "# 0\n",
    "# 10/10\n",
    "# 1\n",
    "# 1/10\n",
    "\n",
    "def reverse(num):\n",
    "    r=0\n",
    "    rev=0\n",
    "    while num>0:\n",
    "        r=num%10\n",
    "        num=(num//10)\n",
    "        rev = (rev*10)+r\n",
    "    print(rev)"
   ]
  },
  {
   "cell_type": "code",
   "execution_count": 26,
   "metadata": {},
   "outputs": [
    {
     "name": "stdout",
     "output_type": "stream",
     "text": [
      "401\n"
     ]
    }
   ],
   "source": [
    "reverse(10400)"
   ]
  },
  {
   "cell_type": "code",
   "execution_count": 27,
   "metadata": {},
   "outputs": [],
   "source": [
    "x=13245\n",
    "def add_alternate(num):\n",
    "    sumev=0\n",
    "    sumodd=0\n",
    "    while num>0:\n",
    "        rem=num%10\n",
    "        num=num//10\n",
    "        if rem%2==0:\n",
    "            sumev+=rem\n",
    "        else:\n",
    "            sumodd+=rem\n",
    "    print(sumev, sumodd, sep=' ')\n",
    "            "
   ]
  },
  {
   "cell_type": "code",
   "execution_count": 28,
   "metadata": {},
   "outputs": [
    {
     "name": "stdout",
     "output_type": "stream",
     "text": [
      "6 9\n"
     ]
    }
   ],
   "source": [
    "add_alternate(12345)"
   ]
  },
  {
   "cell_type": "code",
   "execution_count": 35,
   "metadata": {},
   "outputs": [],
   "source": [
    "# 5\n",
    "# 0+1+1+2+3+5+8\n",
    "def fib(n):\n",
    "    a=0\n",
    "    b=1\n",
    "    sum=0\n",
    "    count=0\n",
    "    while count<n:\n",
    "        a=b\n",
    "        b=sum\n",
    "        sum=a+b\n",
    "        count+=1\n",
    "    print(sum)\n",
    "        \n",
    "         "
   ]
  },
  {
   "cell_type": "code",
   "execution_count": 39,
   "metadata": {},
   "outputs": [
    {
     "name": "stdout",
     "output_type": "stream",
     "text": [
      "0 1 2 3 "
     ]
    }
   ],
   "source": [
    "# fib(6)\n",
    "for i in range(4):\n",
    "    pri"
   ]
  },
  {
   "cell_type": "code",
   "execution_count": 46,
   "metadata": {},
   "outputs": [],
   "source": [
    "def pat1(n):\n",
    "    i=0\n",
    "    j=0\n",
    "    while i<n:\n",
    "        if (i==0 and j==0) or i==n-1 and j==n-1:\n",
    "            for x in range(n):\n",
    "                print(1, end=' ')\n",
    "        else:\n",
    "            for x in range(n):\n",
    "                if x==0 or x==n-1:\n",
    "                    print(1,end=' ')\n",
    "                else:\n",
    "                    print(0, end=' ')\n",
    "        i+=1\n",
    "        j+=1\n",
    "        print('\\n')"
   ]
  },
  {
   "cell_type": "code",
   "execution_count": 47,
   "metadata": {},
   "outputs": [
    {
     "name": "stdout",
     "output_type": "stream",
     "text": [
      "1 1 1 1 \n",
      "\n",
      "1 0 0 1 \n",
      "\n",
      "1 0 0 1 \n",
      "\n",
      "1 1 1 1 \n",
      "\n"
     ]
    }
   ],
   "source": [
    "pat1(4)"
   ]
  },
  {
   "cell_type": "code",
   "execution_count": 66,
   "metadata": {},
   "outputs": [],
   "source": [
    "def zigzag(n):\n",
    "    i=0\n",
    "    j=0\n",
    "    while i<n:\n",
    "        if (i==0 and j==0) or i==n-1 and j==n-1:\n",
    "            for x in range(n):\n",
    "                print(1, end=' ')\n",
    "        else:\n",
    "            for x in range(n):\n",
    "                \n",
    "                if x==n-2:\n",
    "                    print(1,end=' ')\n",
    "                else:\n",
    "                    print(0, end=' ')\n",
    "        i+=1\n",
    "        j+=1\n",
    "        print('\\n')"
   ]
  },
  {
   "cell_type": "code",
   "execution_count": 67,
   "metadata": {},
   "outputs": [
    {
     "name": "stdout",
     "output_type": "stream",
     "text": [
      "1 1 1 1 \n",
      "\n",
      "0 4\n",
      "0 1 4\n",
      "0 2 4\n",
      "1 3 4\n",
      "0 \n",
      "\n",
      "0 4\n",
      "0 1 4\n",
      "0 2 4\n",
      "1 3 4\n",
      "0 \n",
      "\n",
      "1 1 1 1 \n",
      "\n"
     ]
    }
   ],
   "source": [
    "zigzag(4)"
   ]
  },
  {
   "cell_type": "code",
   "execution_count": null,
   "metadata": {},
   "outputs": [],
   "source": []
  }
 ],
 "metadata": {
  "kernelspec": {
   "display_name": "Python 3",
   "language": "python",
   "name": "python3"
  },
  "language_info": {
   "codemirror_mode": {
    "name": "ipython",
    "version": 3
   },
   "file_extension": ".py",
   "mimetype": "text/x-python",
   "name": "python",
   "nbconvert_exporter": "python",
   "pygments_lexer": "ipython3",
   "version": "3.7.9"
  }
 },
 "nbformat": 4,
 "nbformat_minor": 4
}
